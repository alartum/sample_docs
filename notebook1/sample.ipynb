{
 "cells": [
  {
   "attachments": {},
   "cell_type": "markdown",
   "id": "73424226",
   "metadata": {},
   "source": [
    "# Sample notebook 1\n",
    "\n",
    "Title should be present for the correct docs generation."
   ]
  },
  {
   "cell_type": "code",
   "execution_count": 1,
   "id": "9ed0352c",
   "metadata": {},
   "outputs": [],
   "source": [
    "import numpy as np"
   ]
  },
  {
   "cell_type": "code",
   "execution_count": 2,
   "id": "b49364d1",
   "metadata": {},
   "outputs": [
    {
     "data": {
      "text/plain": [
       "array([[0.68523898, 0.50863059, 0.12840511, 0.74667248, 0.66741074],\n",
       "       [0.64231741, 0.70969965, 0.45245485, 0.72715248, 0.25551614],\n",
       "       [0.29702731, 0.2616994 , 0.00862876, 0.54587974, 0.93884369],\n",
       "       [0.43171498, 0.79032623, 0.80817468, 0.29876293, 0.49553707],\n",
       "       [0.10613102, 0.2312632 , 0.25542982, 0.23247385, 0.49805383]])"
      ]
     },
     "execution_count": 2,
     "metadata": {},
     "output_type": "execute_result"
    }
   ],
   "source": [
    "np.random.uniform(size=(5, 5))"
   ]
  },
  {
   "cell_type": "code",
   "execution_count": null,
   "id": "2185b8af",
   "metadata": {},
   "outputs": [],
   "source": []
  }
 ],
 "metadata": {
  "kernelspec": {
   "display_name": "candi-solar-env",
   "language": "python",
   "name": "python3"
  },
  "language_info": {
   "codemirror_mode": {
    "name": "ipython",
    "version": 3
   },
   "file_extension": ".py",
   "mimetype": "text/x-python",
   "name": "python",
   "nbconvert_exporter": "python",
   "pygments_lexer": "ipython3",
   "version": "3.10.6 | packaged by conda-forge | (main, Aug 22 2022, 20:38:29) [Clang 13.0.1 ]"
  },
  "vscode": {
   "interpreter": {
    "hash": "6da0d21bca42edf5c260ee7d5a2b334919fc4b302deef45970b613be0467acad"
   }
  }
 },
 "nbformat": 4,
 "nbformat_minor": 5
}
